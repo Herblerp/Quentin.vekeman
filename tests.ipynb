{
 "cells": [
  {
   "cell_type": "markdown",
   "metadata": {},
   "source": [
    "# Digit recognizer algorithm tests\n",
    "*Warning: this notebook takes a long time to complete. Please check the paper for results.*\n",
    "\n",
    "## Test 1 | KNN neighbours\n",
    "This test is to determine the best value for k, or the amount of nearest neighbours.\n",
    "Values from 1 to 20 (inclusive) are checked. The network is trained 10 times for each value.\n",
    "The test and train set get shuffled each time. \n",
    "The average accuracy will be considered to determine the best value for k."
   ]
  },
  {
   "cell_type": "code",
   "execution_count": 1,
   "metadata": {
    "pycharm": {
     "is_executing": false,
     "name": "#%%\n"
    }
   },
   "outputs": [
    {
     "name": "stderr",
     "text": [
      "Using TensorFlow backend.\n"
     ],
     "output_type": "stream"
    },
    {
     "name": "stdout",
     "text": [
      "********************************************************************************\n",
      "                               KNN ACCURACY TEST                                \n",
      "********************************************************************************\n",
      "Testing average accuracy for k=3 over 2 iterations.\n",
      "Deskewed: False\n",
      "\n",
      "--------------------\n",
      "    ITERATION 0    \n",
      "--------------------\n",
      "Random_state = 3324\n",
      "Accuracy = 96.540000\n",
      "--------------------\n",
      "    ITERATION 1    \n",
      "--------------------\n",
      "Random_state = 1289\n",
      "Accuracy = 96.700000\n",
      "Average accuracy for 2 iterations is 96.620000\n"
     ],
     "output_type": "stream"
    }
   ],
   "source": [
    "import test\n",
    "#k_max_acc = test.test_knn_neighbours(3,2,False)\n",
    "#k_max_acc_desk = test.test_knn_neighbours(3,2,True)\n",
    "\n",
    "knn_acc = test.test_knn(3,2,False)\n",
    "#knn_acc_desk = test.test_knn(k_max_acc,2,True)"
   ]
  }
 ],
 "metadata": {
  "kernelspec": {
   "display_name": "Python 3",
   "language": "python",
   "name": "python3"
  },
  "language_info": {
   "codemirror_mode": {
    "name": "ipython",
    "version": 3
   },
   "file_extension": ".py",
   "mimetype": "text/x-python",
   "name": "python",
   "nbconvert_exporter": "python",
   "pygments_lexer": "ipython3",
   "version": "3.7.5"
  },
  "pycharm": {
   "stem_cell": {
    "cell_type": "raw",
    "source": [],
    "metadata": {
     "collapsed": false
    }
   }
  }
 },
 "nbformat": 4,
 "nbformat_minor": 1
}