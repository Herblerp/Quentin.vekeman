{
 "cells": [
  {
   "cell_type": "markdown",
   "metadata": {},
   "source": [
    "# Digit recognizer algorithm tests\n",
    "*Warning: this notebook takes a long time to complete. Please check the paper for results.*\n",
    "\n",
    "## Test 1 | KNN neighbours\n",
    "This test is to determine the best value for k, or the amount of nearest neighbours.\n",
    "Values from 1 to 20 (inclusive) are checked. The network is trained 10 times for each value.\n",
    "The test and train set get shuffled each time. \n",
    "The average accuracy will be considered to determine the best value for k."
   ]
  },
  {
   "cell_type": "code",
   "execution_count": null,
   "metadata": {
    "pycharm": {
     "is_executing": true,
     "name": "#%%\n"
    }
   },
   "outputs": [
    {
     "name": "stderr",
     "text": [
      "Using TensorFlow backend.\n"
     ],
     "output_type": "stream"
    },
    {
     "name": "stdout",
     "text": [
      "Random_state set to 4749\n",
      "Dimention of x_train is (33600, 784)\n",
      "Testing accuracy for k in range 1 to 3 with 2 iterations each\n",
      "Random_state set to 4524\n",
      "Dimention of x_train is (26880, 784)\n",
      "Accuracy for iteration 1 with 1 neighbours is 96.370000\n",
      "Random_state set to 4152\n",
      "Dimention of x_train is (21504, 784)\n"
     ],
     "output_type": "stream"
    }
   ],
   "source": [
    "import test\n",
    "k_max_acc = test.test_knn_neighbours(3,2,False)\n",
    "k_max_acc_desk = test.test_knn_neighbours(3,2,True)\n",
    "\n",
    "#knn_acc = test.test_knn(k_max_acc,2,False)\n",
    "#knn_acc_desk = test.test_knn(k_max_acc,2,True)"
   ]
  }
 ],
 "metadata": {
  "kernelspec": {
   "display_name": "Python 3",
   "language": "python",
   "name": "python3"
  },
  "language_info": {
   "codemirror_mode": {
    "name": "ipython",
    "version": 3
   },
   "file_extension": ".py",
   "mimetype": "text/x-python",
   "name": "python",
   "nbconvert_exporter": "python",
   "pygments_lexer": "ipython3",
   "version": "3.7.5"
  },
  "pycharm": {
   "stem_cell": {
    "cell_type": "raw",
    "source": [],
    "metadata": {
     "collapsed": false
    }
   }
  }
 },
 "nbformat": 4,
 "nbformat_minor": 1
}