{
 "cells": [
  {
   "cell_type": "markdown",
   "metadata": {},
   "source": [
    "# Digit recognizer algorithm tests\n",
    "*Warning: this notebook takes a long time to complete. Please check the paper for results.*\n",
    "\n",
    "## Test 1 | KNN neighbours\n",
    "This test is to determine the best value for k, or the amount of nearest neighbours.\n",
    "Values from 1 to 20 (inclusive) are checked. The algorithm is trained several times for each value.\n",
    "The test and train set get shuffled each time. \n",
    "The average accuracy will be considered to determine the best value for k. Tests will be performed for\n",
    "skewed and deskewed data."
   ]
  },
  {
   "cell_type": "code",
   "execution_count": null,
   "metadata": {
    "pycharm": {
     "is_executing": true,
     "name": "#%%\n"
    },
    "scrolled": false
   },
   "outputs": [],
   "source": [
    "import test\n",
    "k_max_acc = test.test_knn_neighbours(k_max=20,iterations=10,deskewed=False)\n",
    "k_max_acc_desk = test.test_knn_neighbours(k_max=20,iterations=10,deskewed=True)\n"
   ]
  },
  {
   "cell_type": "markdown",
   "source": [
    "## Test 2 | KNN accuracy test\n",
    "Using the best value for k determined from the previous test, the average value is determined once more, \n",
    "but with a higher amount of iterations. This is done once again for both skewed and deskewed data. "
   ],
   "metadata": {
    "collapsed": false
   }
  },
  {
   "cell_type": "code",
   "execution_count": null,
   "outputs": [],
   "source": [
    "test.test_knn(k=k_max_acc,iterations=20,deskewed=False)\n",
    "test.test_knn(k=k_max_acc_desk,iterations=20,deskewed=True)"
   ],
   "metadata": {
    "collapsed": false,
    "pycharm": {
     "name": "#%%\n",
     "is_executing": true
    }
   }
  },
  {
   "cell_type": "markdown",
   "source": [
    "## Test 3 | SVM accuracy test\n",
    "The svm algorithm is tested using several kernels, and a couple different grades for the polynomial kernel. \n",
    "Only 4 iterations are used because SVM's take a long time to train on a dataset this big."
   ],
   "metadata": {
    "collapsed": false
   }
  },
  {
   "cell_type": "code",
   "execution_count": null,
   "outputs": [],
   "source": [
    "test.test_svm(kernel='rbf', grade=0, iterations=4, deskewed=False)\n",
    "test.test_svm(kernel='rbf', grade=0, iterations=4, deskewed=True)\n",
    "\n",
    "test.test_svm(kernel='linear', grade=0, iterations=4, deskewed=False)\n",
    "test.test_svm(kernel='linear', grade=0, iterations=4, deskewed=True)\n",
    "\n",
    "test.test_svm(kernel='poly', grade=2, iterations=4, deskewed=False)\n",
    "test.test_svm(kernel='poly', grade=2, iterations=4, deskewed=True)\n",
    "\n",
    "test.test_svm(kernel='poly', grade=3, iterations=4, deskewed=False)\n",
    "test.test_svm(kernel='poly', grade=3, iterations=4, deskewed=True)\n",
    "\n",
    "test.test_svm(kernel='poly', grade=4, iterations=4, deskewed=False)\n",
    "test.test_svm(kernel='poly', grade=4, iterations=4, deskewed=True)\n",
    "\n",
    "test.test_svm(kernel='poly', grade=5, iterations=4, deskewed=False)\n",
    "test.test_svm(kernel='poly', grade=5, iterations=4, deskewed=True)\n"
   ],
   "metadata": {
    "collapsed": false,
    "pycharm": {
     "name": "#%%\n",
     "is_executing": true
    }
   }
  },
  {
   "cell_type": "markdown",
   "source": [
    "\n",
    "## Test 4 | NN accuracy test\n",
    "A simple neural net is trained a couple of times \n",
    "using a different amount of layers, hidden units and a different optimizer to compare the results.\n"
   ],
   "metadata": {
    "collapsed": false
   }
  },
  {
   "cell_type": "code",
   "execution_count": null,
   "outputs": [],
   "source": [
    "test.test_nn(layers_min=1,\n",
    "                   layers_max=6,\n",
    "                   layers_interval=1,\n",
    "                   hu_min=50,\n",
    "                   hu_max=500,\n",
    "                   hu_interval=50,\n",
    "                   optimizer='sgd',\n",
    "                   epochs=2000,\n",
    "                   deskewed=False,\n",
    "                   batch_size=200)\n",
    "\n",
    "test.test_nn(layers_min=1,\n",
    "                   layers_max=6,\n",
    "                   layers_interval=1,\n",
    "                   hu_min=50,\n",
    "                   hu_max=500,\n",
    "                   hu_interval=50,\n",
    "                   optimizer='sgd',\n",
    "                   epochs=2000,\n",
    "                   deskewed=True,\n",
    "                   batch_size=200)\n",
    "\n",
    "test.test_nn(layers_min=1,\n",
    "                   layers_max=6,\n",
    "                   layers_interval=1,\n",
    "                   hu_min=50,\n",
    "                   hu_max=500,\n",
    "                   hu_interval=50,\n",
    "                   optimizer='adam',\n",
    "                   epochs=2000,\n",
    "                   deskewed=False,\n",
    "                   batch_size=200)\n",
    "\n",
    "test.test_nn(layers_min=1,\n",
    "                   layers_max=6,\n",
    "                   layers_interval=1,\n",
    "                   hu_min=50,\n",
    "                   hu_max=500,\n",
    "                   hu_interval=50,\n",
    "                   optimizer='adam',\n",
    "                   epochs=2000,\n",
    "                   deskewed=True,\n",
    "                   batch_size=200)\n",
    "\n",
    "test.test_nn(layers_min=1,\n",
    "                   layers_max=6,\n",
    "                   layers_interval=1,\n",
    "                   hu_min=50,\n",
    "                   hu_max=500,\n",
    "                   hu_interval=50,\n",
    "                   optimizer='adadelta',\n",
    "                   epochs=2000,\n",
    "                   deskewed=False,\n",
    "                   batch_size=200)\n",
    "\n",
    "test.test_nn(layers_min=1,\n",
    "                   layers_max=6,\n",
    "                   layers_interval=1,\n",
    "                   hu_min=50,\n",
    "                   hu_max=500,\n",
    "                   hu_interval=50,\n",
    "                   optimizer='adadelta',\n",
    "                   epochs=2000,\n",
    "                   deskewed=True,\n",
    "                   batch_size=200)"
   ],
   "metadata": {
    "collapsed": false,
    "pycharm": {
     "name": "#%%\n",
     "is_executing": true
    }
   }
  },
  {
   "cell_type": "markdown",
   "source": [
    "\n",
    "## Test 5 | Optimized CNN accuracy test\n",
    "In this test an optimized CNN from a notebook on the kaggle website is trained.\n"
   ],
   "metadata": {
    "collapsed": false
   }
  },
  {
   "cell_type": "code",
   "execution_count": null,
   "outputs": [],
   "source": [
    "test.test_cnn(False)\n",
    "test.test_cnn(True)\n",
    "\n",
    "\n"
   ],
   "metadata": {
    "collapsed": false,
    "pycharm": {
     "name": "#%%\n",
     "is_executing": true
    }
   }
  }
 ],
 "metadata": {
  "kernelspec": {
   "display_name": "Python 3",
   "language": "python",
   "name": "python3"
  },
  "language_info": {
   "codemirror_mode": {
    "name": "ipython",
    "version": 3
   },
   "file_extension": ".py",
   "mimetype": "text/x-python",
   "name": "python",
   "nbconvert_exporter": "python",
   "pygments_lexer": "ipython3",
   "version": "3.7.5"
  },
  "pycharm": {
   "stem_cell": {
    "cell_type": "raw",
    "source": [],
    "metadata": {
     "collapsed": false
    }
   }
  }
 },
 "nbformat": 4,
 "nbformat_minor": 1
}