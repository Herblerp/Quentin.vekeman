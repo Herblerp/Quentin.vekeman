{
 "cells": [
  {
   "cell_type": "markdown",
   "metadata": {},
   "source": [
    "# Digit recognizer algorithm tests\n",
    "*Warning: this notebook takes a long time to complete. Please check the paper for results.*\n",
    "\n",
    "## Test 1 | KNN neighbours\n",
    "This test is to determine the best value for k, or the amount of nearest neighbours.\n",
    "Values from 1 to 20 (inclusive) are checked. The network is trained 10 times for each value.\n",
    "The test and train set get shuffled each time. \n",
    "The average accuracy will be considered to determine the best value for k."
   ]
  },
  {
   "cell_type": "code",
   "execution_count": null,
   "metadata": {
    "pycharm": {
     "is_executing": true,
     "name": "#%%\n"
    }
   },
   "outputs": [
    {
     "name": "stderr",
     "text": [
      "Using TensorFlow backend.\n"
     ],
     "output_type": "stream"
    },
    {
     "name": "stdout",
     "text": [
      "Testing amount of neighbours for k in range 1 to 2 with 2 iterations each\n"
     ],
     "output_type": "stream"
    }
   ],
   "source": [
    "import test\n",
    "test.test_knn_neighbours(2,2)\n"
   ]
  }
 ],
 "metadata": {
  "kernelspec": {
   "display_name": "Python 3",
   "language": "python",
   "name": "python3"
  },
  "language_info": {
   "codemirror_mode": {
    "name": "ipython",
    "version": 3
   },
   "file_extension": ".py",
   "mimetype": "text/x-python",
   "name": "python",
   "nbconvert_exporter": "python",
   "pygments_lexer": "ipython3",
   "version": "3.7.5"
  },
  "pycharm": {
   "stem_cell": {
    "cell_type": "raw",
    "source": [],
    "metadata": {
     "collapsed": false
    }
   }
  }
 },
 "nbformat": 4,
 "nbformat_minor": 1
}